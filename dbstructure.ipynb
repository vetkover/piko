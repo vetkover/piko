{
 "cells": [
  {
   "cell_type": "markdown",
   "metadata": {},
   "source": [
    "piko db structure (MongoDB)\n",
    "\n",
    "    piko|\n",
    "        |cdn\n",
    "        |posts\n",
    "        |users\n",
    "        |chats\n"
   ]
  },
  {
   "cell_type": "markdown",
   "metadata": {},
   "source": [
    "piko.cdn permanent recording"
   ]
  },
  {
   "cell_type": "code",
   "execution_count": null,
   "metadata": {},
   "outputs": [],
   "source": [
    "{\n",
    "  \"originalName\": \"image_copy.png\",\n",
    "  \"name\": \"5xuqny1i42vn1gy0grnhl3uph\",\n",
    "  \"path\": \"user/5xuqny1i42vn1gy0grnhl3uph.png\",\n",
    "  \"createTime\": 1709375119629\n",
    "}"
   ]
  },
  {
   "cell_type": "markdown",
   "metadata": {},
   "source": [
    "originalName: original name of the uploaded file\n",
    "\n",
    "name: name-token by which the url request will go\n",
    "\n",
    "path: path to the file on the server\n",
    "\n",
    "createTime: time to upload a file to the server in unix format"
   ]
  },
  {
   "cell_type": "markdown",
   "metadata": {},
   "source": [
    "piko.cdn temp recording"
   ]
  },
  {
   "cell_type": "code",
   "execution_count": null,
   "metadata": {},
   "outputs": [],
   "source": [
    "{\n",
    "  \"originalName\": \"image_copy.png\",\n",
    "  \"name\": \"5xuqny1i42vn1gy0grnhl3uph\",\n",
    "  \"path\": \"user/5xuqny1i42vn1gy0grnhl3uph.png\",\n",
    "  \"tempType\": \"avatar\",\n",
    "  \"createTime\": 1709375119629\n",
    "}"
   ]
  },
  {
   "cell_type": "markdown",
   "metadata": {},
   "source": [
    "The difference from permanent is the presence of tempType which is used later when transferring the file to permanent storage"
   ]
  },
  {
   "cell_type": "markdown",
   "metadata": {},
   "source": [
    "piko.users user record example"
   ]
  },
  {
   "cell_type": "code",
   "execution_count": null,
   "metadata": {},
   "outputs": [],
   "source": [
    "{\n",
    "  \"username\": \"example\",\n",
    "  \"password\": \"passwordexample123\",\n",
    "  \"avatar\": \"defaultAvatar\",\n",
    "  \"chats\": [],\n",
    "  \"sessions\": [\n",
    "    {\n",
    "      \"token\": \"yi1287oydugv12il7yhasdqwe3giy1ip2879oygu3vy1fiasdg2oi3hiqiwjoe123\"\n",
    "    }\n",
    "  ],\n",
    "  \"email\": \"example@gmail.com\",\n",
    "  \"nickname\": \"example\",\n",
    "  \"bio\": \"lorem ipsum\",\n",
    "  \"baner\": \"defaultBaner\"\n",
    "}"
   ]
  },
  {
   "cell_type": "markdown",
   "metadata": {},
   "source": [
    "username: username field\n",
    "\n",
    "password: password field\n",
    "\n",
    "avatar: token of avatar image file on cdn\n",
    "\n",
    "chats: array with user chats id\n",
    "\n",
    "sessions: array with data about token\n",
    "\n",
    "email: email field\n",
    "\n",
    "nickname: nickname field\n",
    "\n",
    "bio: profile description\n",
    "\n",
    "baner: token of baner image file on cdn"
   ]
  },
  {
   "cell_type": "markdown",
   "metadata": {},
   "source": [
    "piko.posts technically required field"
   ]
  },
  {
   "cell_type": "code",
   "execution_count": null,
   "metadata": {},
   "outputs": [],
   "source": [
    "{\n",
    "  \"idCounter\": 0,\n",
    "}"
   ]
  },
  {
   "cell_type": "markdown",
   "metadata": {},
   "source": [
    "idCounter: a field that stores the last created id for a post"
   ]
  },
  {
   "cell_type": "markdown",
   "metadata": {},
   "source": [
    "piko.posts user record"
   ]
  },
  {
   "cell_type": "code",
   "execution_count": null,
   "metadata": {},
   "outputs": [],
   "source": [
    "{\n",
    "  \"username\": \"example\",\n",
    "  \"posts\": [\n",
    "    {\n",
    "      \"text\": \"cool video\",\n",
    "      \"images\": [\n",
    "        \"w42m2pnnqd62f7uhx35iubqd6\",\n",
    "        \"c1wb4qjg8hotyw85vh1plzt8o\"\n",
    "      ],\n",
    "      \"date\": 1709930133524,\n",
    "      \"sounds\": [\n",
    "        {\n",
    "          \"title\": \"morse.mp3\",\n",
    "          \"src\": \"vl73unpnyifpu3nbpmiewahci\"\n",
    "        },\n",
    "        {\n",
    "          \"title\": \"pastelrock.mp3\",\n",
    "          \"src\": \"52e6q79fgrgi1wxkge3s4fv4w\"\n",
    "        }\n",
    "      ],\n",
    "      \"video\": \"craz0l5jexytoavocjgkqpecj\",\n",
    "      \"status\": \"active\",\n",
    "      \"id\": 9\n",
    "    },\n",
    "    {\n",
    "      \"date\": 1709550487252,\n",
    "      \"status\": \"deleted\",\n",
    "      \"id\": 8\n",
    "    }\n",
    "  ]\n",
    "}"
   ]
  },
  {
   "cell_type": "markdown",
   "metadata": {},
   "source": [
    "username: ownership of the record by the user\n",
    "\n",
    "posts: [{ object that stores posts\n",
    "\n",
    "    text: static post text\n",
    "\n",
    "    images: [] array with images token\n",
    "\n",
    "    date: unix time of the creating posts \n",
    "\n",
    "    sounds: [{\n",
    "\n",
    "        title: sound original file name\n",
    "\n",
    "        src: sound file token\n",
    "\n",
    "    }]\n",
    "\n",
    "    video: video token (yes now its just a string)\n",
    "\n",
    "    status: indicates availability\n",
    "\n",
    "    id: unique number\n",
    "    \n",
    "}]"
   ]
  },
  {
   "cell_type": "markdown",
   "metadata": {},
   "source": [
    "piko.posts status explanation\n",
    "\n",
    "Post can be restrictions, hidden, or deleted. If a post is deleted by a user or stuff a record that the post existed is kept, but the content of the post is irretrievably deleted.\n"
   ]
  }
 ],
 "metadata": {
  "kernelspec": {
   "display_name": "Python 3",
   "language": "python",
   "name": "python3"
  },
  "language_info": {
   "name": "python",
   "version": "3.12.2"
  }
 },
 "nbformat": 4,
 "nbformat_minor": 2
}
